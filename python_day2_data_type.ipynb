{
 "cells": [
  {
   "cell_type": "markdown",
   "metadata": {},
   "source": [
    "마크다운 쉘M, 코드 쉘 Y"
   ]
  },
  {
   "cell_type": "code",
   "execution_count": 23,
   "metadata": {},
   "outputs": [
    {
     "data": {
      "text/plain": [
       "(1, 2, 3, 'a', 'a', 'bb')"
      ]
     },
     "execution_count": 23,
     "metadata": {},
     "output_type": "execute_result"
    }
   ],
   "source": [
    "# 튜플 (요소, 요소, .......), 특징 : 수정불가능\n",
    "# 용도, 함수의 리턴이 복수개일때 튜플로 반환됩니다.\n",
    "t = (1,2,3, 'a','a', 'bb')\n",
    "t\n"
   ]
  },
  {
   "cell_type": "code",
   "execution_count": 24,
   "metadata": {},
   "outputs": [
    {
     "data": {
      "text/plain": [
       "2"
      ]
     },
     "execution_count": 24,
     "metadata": {},
     "output_type": "execute_result"
    }
   ],
   "source": [
    "t.count('a')"
   ]
  },
  {
   "cell_type": "code",
   "execution_count": 26,
   "metadata": {},
   "outputs": [
    {
     "data": {
      "text/plain": [
       "3"
      ]
     },
     "execution_count": 26,
     "metadata": {},
     "output_type": "execute_result"
    }
   ],
   "source": [
    "t.index('a')"
   ]
  },
  {
   "cell_type": "code",
   "execution_count": 27,
   "metadata": {},
   "outputs": [
    {
     "data": {
      "text/plain": [
       "{1, 2, 3, 'a', 'bb'}"
      ]
     },
     "execution_count": 27,
     "metadata": {},
     "output_type": "execute_result"
    }
   ],
   "source": [
    "s = set(t)\n",
    "s\n"
   ]
  },
  {
   "cell_type": "code",
   "execution_count": 29,
   "metadata": {},
   "outputs": [
    {
     "data": {
      "text/plain": [
       "(1, 2, 3, 'a', 'a', 'bb')"
      ]
     },
     "execution_count": 29,
     "metadata": {},
     "output_type": "execute_result"
    }
   ],
   "source": [
    "t"
   ]
  },
  {
   "cell_type": "code",
   "execution_count": 31,
   "metadata": {},
   "outputs": [
    {
     "data": {
      "text/plain": [
       "[1, 2, 3, 'a', 'bb']"
      ]
     },
     "execution_count": 31,
     "metadata": {},
     "output_type": "execute_result"
    }
   ],
   "source": [
    "l = list(s)\n",
    "l"
   ]
  },
  {
   "cell_type": "code",
   "execution_count": 33,
   "metadata": {},
   "outputs": [
    {
     "data": {
      "text/plain": [
       "([1, 2, 3, 'a', 'a', 'bb'], {1, 2, 3, 'a', 'bb'}, (1, 2, 3, 'a', 'a', 'bb'))"
      ]
     },
     "execution_count": 33,
     "metadata": {},
     "output_type": "execute_result"
    }
   ],
   "source": [
    "list(t), set(t), tuple(t)"
   ]
  },
  {
   "cell_type": "code",
   "execution_count": 94,
   "metadata": {},
   "outputs": [],
   "source": [
    "# 함수 만들기\n",
    "def add_3(a,b,c=1):\n",
    "    '''\n",
    "    문서화: 이 함수는 값 3개를 더해서 리턴합니다\n",
    "    ㅋㅋㅋ\n",
    "    작성자 : Kim 2019.06.12\n",
    "    '''\n",
    "    return a+b+c\n",
    "\n"
   ]
  },
  {
   "cell_type": "code",
   "execution_count": 97,
   "metadata": {},
   "outputs": [
    {
     "data": {
      "text/plain": [
       "(6, 7, '12kkk', 4)"
      ]
     },
     "execution_count": 97,
     "metadata": {},
     "output_type": "execute_result"
    }
   ],
   "source": [
    "add_3(1,2,3),add_3(1,2,4),add_3('1','2','kkk'),add_3(1,2)"
   ]
  },
  {
   "cell_type": "code",
   "execution_count": 88,
   "metadata": {},
   "outputs": [],
   "source": [
    "#retrun 이 없는 함수\n",
    "import math\n",
    "def check_nan(x):\n",
    "    if math.isnan(x): # nan : not a number 슷자가 아니다. 0으로 나누거나 할때 발생\n",
    "        print(x, '는 nan 입니다')\n",
    "    else:\n",
    "        print(x, '는 숫자입니다')\n",
    "        return 'kkk'\n"
   ]
  },
  {
   "cell_type": "code",
   "execution_count": 98,
   "metadata": {},
   "outputs": [
    {
     "name": "stdout",
     "output_type": "stream",
     "text": [
      "100 는 숫자입니다\n",
      "kkk\n"
     ]
    }
   ],
   "source": [
    "out = check_nan(100)\n",
    "print(out)"
   ]
  },
  {
   "cell_type": "markdown",
   "metadata": {},
   "source": [
    "클래스를 정의해두고, 사용할때는 인스턴스를 생성해서 클래스의 함수들을 사용합니다"
   ]
  },
  {
   "cell_type": "code",
   "execution_count": 372,
   "metadata": {},
   "outputs": [],
   "source": [
    "import random\n",
    "class Lotto:\n",
    "    def __init__(self): #함수의 첫번째 인자로 self를 넣어줍니다. JAVA의 this에 해당\n",
    "        print('로또 정답 생성자')\n",
    "        self.target = [] #self를 붙이면 클래스 변수가 됩니다.\n",
    "        for i in range(5):\n",
    "            v = random.randint(1,45)\n",
    "            while(v in self.target):\n",
    "                v = random.randint(1,45)\n",
    "            self.target.append(v)\n",
    "        print(self.target)\n",
    "        \n",
    "    def select(self,nums):\n",
    "        print('정답',self.target, '예측',nums)\n",
    "        k = 0\n",
    "        for i in range(5) :\n",
    "            if nums[i] in self.target:\n",
    "                k+=1\n",
    "\n",
    "        if k==5:\n",
    "            print('1등 당첨되셨습니다')\n",
    "        if k > 1: \n",
    "            print('축하합니다',k, '개 맞췄습니다')\n",
    "        else :\n",
    "            print('꽝입니다 하나도 못맞췄습니다')"
   ]
  },
  {
   "cell_type": "code",
   "execution_count": 422,
   "metadata": {},
   "outputs": [
    {
     "name": "stdout",
     "output_type": "stream",
     "text": [
      "로또 정답 생성자\n",
      "[44, 11, 24, 40, 23]\n",
      "로또 정답 생성자\n",
      "[43, 11, 4, 31, 5]\n",
      "정답 [44, 11, 24, 40, 23] 예측 [1, 3, 5, 7, 9]\n",
      "꽝입니다 하나도 못맞췄습니다\n"
     ]
    }
   ],
   "source": [
    "#객체(인스턴스) 생성 방법 : 클래스이름()\n",
    "lotto1 = Lotto()\n",
    "lotto2 = Lotto()\n",
    "lotto1, lotto2\n",
    "lotto1.select([1,3,5,7,9])"
   ]
  },
  {
   "cell_type": "code",
   "execution_count": 423,
   "metadata": {},
   "outputs": [
    {
     "name": "stdout",
     "output_type": "stream",
     "text": [
      "정답 [44, 11, 24, 40, 23] 예측 [1, 3, 5, 7, 9]\n",
      "꽝입니다 하나도 못맞췄습니다\n"
     ]
    }
   ],
   "source": [
    "lotto1.select([1,3,5,7,9])"
   ]
  },
  {
   "cell_type": "code",
   "execution_count": 426,
   "metadata": {},
   "outputs": [
    {
     "data": {
      "text/plain": [
       "(5, [1, 3, 5, 6, 8])"
      ]
     },
     "execution_count": 426,
     "metadata": {},
     "output_type": "execute_result"
    }
   ],
   "source": [
    "my_nums = [[1,3,5,6,8],[10,20,30,40,33],[1,2,3,4,5],[6,7,8,9,11],[3,7,12,23,44]]\n",
    "len(my_nums),my_nums[0]"
   ]
  },
  {
   "cell_type": "code",
   "execution_count": 455,
   "metadata": {},
   "outputs": [
    {
     "name": "stdout",
     "output_type": "stream",
     "text": [
      "정답 [44, 11, 24, 40, 23] 예측 [1, 3, 5, 6, 8]\n",
      "꽝입니다 하나도 못맞췄습니다\n",
      "\n",
      "정답 [44, 11, 24, 40, 23] 예측 [10, 20, 30, 40, 33]\n",
      "꽝입니다 하나도 못맞췄습니다\n",
      "\n",
      "정답 [44, 11, 24, 40, 23] 예측 [1, 2, 3, 4, 5]\n",
      "꽝입니다 하나도 못맞췄습니다\n",
      "\n",
      "정답 [44, 11, 24, 40, 23] 예측 [6, 7, 8, 9, 11]\n",
      "꽝입니다 하나도 못맞췄습니다\n",
      "\n",
      "정답 [44, 11, 24, 40, 23] 예측 [3, 7, 12, 23, 44]\n",
      "축하합니다 2 개 맞췄습니다\n",
      "\n"
     ]
    }
   ],
   "source": [
    "for i in range(len(my_nums)):\n",
    "    lotto1.select(my_nums[i])\n",
    "    print('')"
   ]
  }
 ],
 "metadata": {
  "kernelspec": {
   "display_name": "Python 3",
   "language": "python",
   "name": "python3"
  },
  "language_info": {
   "codemirror_mode": {
    "name": "ipython",
    "version": 3
   },
   "file_extension": ".py",
   "mimetype": "text/x-python",
   "name": "python",
   "nbconvert_exporter": "python",
   "pygments_lexer": "ipython3",
   "version": "3.7.3"
  }
 },
 "nbformat": 4,
 "nbformat_minor": 2
}
