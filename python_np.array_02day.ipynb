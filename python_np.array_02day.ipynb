{
 "cells": [
  {
   "cell_type": "markdown",
   "metadata": {},
   "source": [
    "단축키\n",
    "- shift, ctrl, alt + Enter 실행\n",
    "- Esc 커맨드 모드, Enter 편집모드\n",
    "- X 셀 지우기\n",
    "- Esc 누르고 M 마크다운, Y 코드"
   ]
  },
  {
   "cell_type": "markdown",
   "metadata": {},
   "source": [
    "### 넘파이 Numpy (Numeric python)\n",
    "수치 데이터를 처리하는 라이브러리, 고속/편리, 모든 머신러닝 라이브러리외 호환됩니다.\n",
    "머신러닝을 하려면 모든 데이터는 수치로 변경되어야 합니다.\n",
    "- 이미지(흑백 > 하얀색 255, 검은색 0)\n",
    "- 컬러 이미지 (RGB, 빨간색 (255,0,0)\n",
    "- 혈액형 A,B,AB,O > (1,0,0,0), (0,1,0,0), (0,0,1,0), (0,0,0.1) : 원한 인코딩\n",
    "- 자연어, 단어 > 숫자로 변환 Word2Vector\n",
    "- 왕 (x1,x1,x2,x3,x4), 여자(y1,y2,y3,y4,y5)\n",
    "- 왕 + 여자 = (x1,x1,x2,x3,x4)+(y1,y2,y3,y4,y5) = 여왕(z1,z2,z3,z4,z5)"
   ]
  },
  {
   "cell_type": "code",
   "execution_count": 13,
   "metadata": {},
   "outputs": [],
   "source": [
    "import numpy as np # 별칭(별명) 편의를 위해 별칭을 붙입니다."
   ]
  },
  {
   "cell_type": "code",
   "execution_count": 15,
   "metadata": {},
   "outputs": [
    {
     "data": {
      "text/plain": [
       "array([0, 1, 2, 3, 4, 5, 6, 7, 8])"
      ]
     },
     "execution_count": 15,
     "metadata": {},
     "output_type": "execute_result"
    }
   ],
   "source": [
    "np.arange(9)"
   ]
  },
  {
   "cell_type": "code",
   "execution_count": 39,
   "metadata": {},
   "outputs": [
    {
     "data": {
      "text/plain": [
       "array([ 0,  2,  4,  6,  8, 10, 12, 14, 16])"
      ]
     },
     "execution_count": 39,
     "metadata": {},
     "output_type": "execute_result"
    }
   ],
   "source": [
    "np.arange(9) + np.arange(9)"
   ]
  },
  {
   "cell_type": "code",
   "execution_count": 49,
   "metadata": {},
   "outputs": [
    {
     "name": "stdout",
     "output_type": "stream",
     "text": [
      "range 는 연산에 사용할 수 없습니다\n"
     ]
    }
   ],
   "source": [
    "try:\n",
    "    range(9) + range(9)\n",
    "except:\n",
    "    print('range 는 연산에 사용할 수 없습니다')"
   ]
  },
  {
   "cell_type": "code",
   "execution_count": 56,
   "metadata": {},
   "outputs": [
    {
     "data": {
      "text/plain": [
       "[1, 2, 3, 4, 5, 1, 2, 3, 4, 5]"
      ]
     },
     "execution_count": 56,
     "metadata": {},
     "output_type": "execute_result"
    }
   ],
   "source": [
    "# List 도 연산에 사용할 수 없습니다.\n",
    "[1,2,3,4,5] + [1,2,3,4,5]"
   ]
  },
  {
   "cell_type": "code",
   "execution_count": 62,
   "metadata": {},
   "outputs": [
    {
     "data": {
      "text/plain": [
       "((5,), 5, dtype('int32'), numpy.ndarray)"
      ]
     },
     "execution_count": 62,
     "metadata": {},
     "output_type": "execute_result"
    }
   ],
   "source": [
    "x= np.array([1,2,3,4,5]) # List 를 배열로 변환해라\n",
    "x.shape, len(x), x.dtype, type(x) # nd(Number of Dimension) array 다차원 배열"
   ]
  },
  {
   "cell_type": "code",
   "execution_count": 78,
   "metadata": {},
   "outputs": [
    {
     "data": {
      "text/plain": [
       "((5,), 5, dtype('float64'), numpy.ndarray)"
      ]
     },
     "execution_count": 78,
     "metadata": {},
     "output_type": "execute_result"
    }
   ],
   "source": [
    "x= np.array([1,2,3,4,5.5]) # List 를 배열로 변환해라\n",
    "x.shape, len(x), x.dtype, type(x) \n",
    "# 'float64' : double 8 byte 배정밀도 실수\n",
    "# 'floast32' : float 4byte"
   ]
  },
  {
   "cell_type": "markdown",
   "metadata": {},
   "source": [
    "- 정밀함이 중요하다 double : 의료, 우주, 금융\n",
    "  GPU : Tesla(1,000만원)\n",
    "- 정밀함이 중요하지 않은 분야 : 영상 (Red 255,0,0) > (244,1,1), 자연어\n",
    "  float 처리 성능이 높은 GPU : GTX/RTX(100만원), Titan(300만원)"
   ]
  },
  {
   "cell_type": "code",
   "execution_count": 75,
   "metadata": {},
   "outputs": [
    {
     "name": "stdout",
     "output_type": "stream",
     "text": [
      "0.6666667\n",
      "0.6666666666666666\n"
     ]
    },
    {
     "data": {
      "text/plain": [
       "array(0.6665, dtype=float16)"
      ]
     },
     "execution_count": 75,
     "metadata": {},
     "output_type": "execute_result"
    }
   ],
   "source": [
    "x0 = np.array(2/3, dtype=np.float16) #반정밀도 2byte 512MB 1일\n",
    "x1 = np.array(2/3, dtype=np.float32) #단정밀도 4byte 1G byte 2일\n",
    "x2 = np.array(2/3, dtype=np.float64) #배정밀도 8byte 2G byte 4일\n",
    "print(x1)\n",
    "print(x2)\n",
    "x1\n",
    "x2\n",
    "x0"
   ]
  },
  {
   "cell_type": "code",
   "execution_count": 76,
   "metadata": {},
   "outputs": [
    {
     "data": {
      "text/plain": [
       "array(0.6666667, dtype=float32)"
      ]
     },
     "execution_count": 76,
     "metadata": {},
     "output_type": "execute_result"
    }
   ],
   "source": [
    "x1"
   ]
  },
  {
   "cell_type": "code",
   "execution_count": 77,
   "metadata": {},
   "outputs": [
    {
     "data": {
      "text/plain": [
       "array(0.66666667)"
      ]
     },
     "execution_count": 77,
     "metadata": {},
     "output_type": "execute_result"
    }
   ],
   "source": [
    "x2"
   ]
  },
  {
   "cell_type": "code",
   "execution_count": null,
   "metadata": {},
   "outputs": [],
   "source": []
  }
 ],
 "metadata": {
  "kernelspec": {
   "display_name": "Python 3",
   "language": "python",
   "name": "python3"
  },
  "language_info": {
   "codemirror_mode": {
    "name": "ipython",
    "version": 3
   },
   "file_extension": ".py",
   "mimetype": "text/x-python",
   "name": "python",
   "nbconvert_exporter": "python",
   "pygments_lexer": "ipython3",
   "version": "3.7.3"
  }
 },
 "nbformat": 4,
 "nbformat_minor": 2
}
