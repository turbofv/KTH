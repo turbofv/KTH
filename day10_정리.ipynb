{
 "cells": [
  {
   "cell_type": "markdown",
   "metadata": {},
   "source": [
    "- 파이썬 2일 / 넘파이 1일 / Matplot / 지하철 무임승차 / 인구 조사 1일\n",
    "- 5일차 판다스 : Excel, csv 그래프, 캐글, 머신러신 저장소\n",
    "- 6~8 일차 교사학습\n",
    "  1. KNN-분류:투표, 예측:평균\n",
    "  2. 선형 회귀 : Linear Regression / Logistic Regression +  제약 : Ridge, Ridge Classifier, Lasso\n",
    "  3. 결정 트리 : 설명력 쵝오!, 단점 : 오버피팅(과적합) -> 이것을 해소한 것은 앙상블(Random forest, Gradient Boost, Adaboost)\n",
    "      - 데이터를 다른것을 주입 : 부트스트랩\n",
    "      - SVM : 모든것을 사용하지 않고 일부 샘플들 만으로 클래스 경계를 만듦. -> 뉴럴 네트워크에게 밀림(현재는 고사 분위기)\n",
    "      - 뉴럴 네트워크 : MLP\n",
    "- 9~10 일차 비교사학습 : 차원 축소해서 시각화, 단순화\n",
    "    1. 클러스터링 : 그룹화\n",
    "        - K-means(중심찎고 중심안움직일떄까지 움직임), 병합군집(붙어있는거끼리 붙여 불려나감), DBSCAN(k대신 샘플간의 거리, 대신 정해진 길이내에서 모아)"
   ]
  },
  {
   "cell_type": "code",
   "execution_count": null,
   "metadata": {},
   "outputs": [],
   "source": []
  },
  {
   "cell_type": "code",
   "execution_count": null,
   "metadata": {},
   "outputs": [],
   "source": []
  },
  {
   "cell_type": "code",
   "execution_count": null,
   "metadata": {},
   "outputs": [],
   "source": []
  },
  {
   "cell_type": "code",
   "execution_count": null,
   "metadata": {},
   "outputs": [],
   "source": []
  },
  {
   "cell_type": "code",
   "execution_count": null,
   "metadata": {},
   "outputs": [],
   "source": []
  },
  {
   "cell_type": "code",
   "execution_count": null,
   "metadata": {},
   "outputs": [],
   "source": []
  },
  {
   "cell_type": "code",
   "execution_count": null,
   "metadata": {},
   "outputs": [],
   "source": []
  },
  {
   "cell_type": "code",
   "execution_count": null,
   "metadata": {},
   "outputs": [],
   "source": []
  },
  {
   "cell_type": "code",
   "execution_count": null,
   "metadata": {},
   "outputs": [],
   "source": []
  },
  {
   "cell_type": "code",
   "execution_count": null,
   "metadata": {},
   "outputs": [],
   "source": [
    "\n"
   ]
  }
 ],
 "metadata": {
  "kernelspec": {
   "display_name": "Python 3",
   "language": "python",
   "name": "python3"
  },
  "language_info": {
   "codemirror_mode": {
    "name": "ipython",
    "version": 3
   },
   "file_extension": ".py",
   "mimetype": "text/x-python",
   "name": "python",
   "nbconvert_exporter": "python",
   "pygments_lexer": "ipython3",
   "version": "3.7.3"
  }
 },
 "nbformat": 4,
 "nbformat_minor": 2
}
