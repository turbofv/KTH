{
 "cells": [
  {
   "cell_type": "markdown",
   "metadata": {},
   "source": [
    "### 7장 텍스트 데이터 다루기"
   ]
  },
  {
   "cell_type": "code",
   "execution_count": 82,
   "metadata": {},
   "outputs": [],
   "source": [
    "import numpy as np"
   ]
  },
  {
   "cell_type": "code",
   "execution_count": 83,
   "metadata": {},
   "outputs": [],
   "source": [
    "sentencaes = ['토니 스타크가 피터 파커를 얼마나 사랑하는지 알 수 있는 영화 ~ 영화'\n",
    "            ,'cg 팀은 과로사 직전까지 갔을것이야...']"
   ]
  },
  {
   "cell_type": "code",
   "execution_count": 84,
   "metadata": {},
   "outputs": [
    {
     "data": {
      "text/plain": [
       "(list, 2)"
      ]
     },
     "execution_count": 84,
     "metadata": {},
     "output_type": "execute_result"
    }
   ],
   "source": [
    "type(sentences), len(sentences)"
   ]
  },
  {
   "cell_type": "markdown",
   "metadata": {},
   "source": [
    "#### BOW(Bag of Words) 단어 가방으로 전처리"
   ]
  },
  {
   "cell_type": "code",
   "execution_count": 215,
   "metadata": {},
   "outputs": [],
   "source": [
    "#420\n",
    "from sklearn.feature_extraction.text import CountVectorizer, TfidfVectorizer # 갯구를 세어서 배열로 만든다"
   ]
  },
  {
   "cell_type": "code",
   "execution_count": 216,
   "metadata": {},
   "outputs": [],
   "source": [
    "vect = CountVectorizer()\n",
    "vect = TfidfVectorizer()"
   ]
  },
  {
   "cell_type": "code",
   "execution_count": 217,
   "metadata": {},
   "outputs": [
    {
     "data": {
      "text/plain": [
       "TfidfVectorizer(analyzer='word', binary=False, decode_error='strict',\n",
       "        dtype=<class 'numpy.float64'>, encoding='utf-8', input='content',\n",
       "        lowercase=True, max_df=1.0, max_features=None, min_df=1,\n",
       "        ngram_range=(1, 1), norm='l2', preprocessor=None, smooth_idf=True,\n",
       "        stop_words=None, strip_accents=None, sublinear_tf=False,\n",
       "        token_pattern='(?u)\\\\b\\\\w\\\\w+\\\\b', tokenizer=None, use_idf=True,\n",
       "        vocabulary=None)"
      ]
     },
     "execution_count": 217,
     "metadata": {},
     "output_type": "execute_result"
    }
   ],
   "source": [
    "vect.fit(sentences)"
   ]
  },
  {
   "cell_type": "code",
   "execution_count": 218,
   "metadata": {},
   "outputs": [
    {
     "data": {
      "text/plain": [
       "(6, {'안녕': 3, '나는': 0, '남자야': 2, '남자': 1, '여자야': 5, '여자': 4})"
      ]
     },
     "execution_count": 218,
     "metadata": {},
     "output_type": "execute_result"
    }
   ],
   "source": [
    "len(vect.vocabulary_), vect.vocabulary_  # 등장하는 어휘들"
   ]
  },
  {
   "cell_type": "code",
   "execution_count": 219,
   "metadata": {},
   "outputs": [
    {
     "data": {
      "text/plain": [
       "<2x6 sparse matrix of type '<class 'numpy.float64'>'\n",
       "\twith 8 stored elements in Compressed Sparse Row format>"
      ]
     },
     "execution_count": 219,
     "metadata": {},
     "output_type": "execute_result"
    }
   ],
   "source": [
    "#dense_maxtix <-> spase_matrix(자연어) : 메모리 절약하기 위해서 사용\n",
    "sparse_matrix = vect.transform(sentences) # 자연어를 BOW로 변환\n",
    "sparse_matrix"
   ]
  },
  {
   "cell_type": "code",
   "execution_count": 220,
   "metadata": {},
   "outputs": [
    {
     "data": {
      "text/plain": [
       "array([[0.40993715, 0.57615236, 0.57615236, 0.40993715, 0.        ,\n",
       "        0.        ],\n",
       "       [0.40993715, 0.        , 0.        , 0.40993715, 0.57615236,\n",
       "        0.57615236]])"
      ]
     },
     "execution_count": 220,
     "metadata": {},
     "output_type": "execute_result"
    }
   ],
   "source": [
    "sparse_matrix.toarray() # sparse 를 dense 로 변환"
   ]
  },
  {
   "cell_type": "code",
   "execution_count": 221,
   "metadata": {},
   "outputs": [
    {
     "data": {
      "text/plain": [
       "['안녕, 나는 남자야 남자!', '안녕, 나는 여자야 여자!!']"
      ]
     },
     "execution_count": 221,
     "metadata": {},
     "output_type": "execute_result"
    }
   ],
   "source": [
    "sentences"
   ]
  },
  {
   "cell_type": "code",
   "execution_count": 222,
   "metadata": {},
   "outputs": [],
   "source": [
    "from sklearn.datasets import fetch_20newsgroups"
   ]
  },
  {
   "cell_type": "code",
   "execution_count": 223,
   "metadata": {},
   "outputs": [],
   "source": [
    "news = fetch_20newsgroups()  # Download 진행됩니다."
   ]
  },
  {
   "cell_type": "code",
   "execution_count": 224,
   "metadata": {},
   "outputs": [
    {
     "data": {
      "text/plain": [
       "(11314,\n",
       " 20,\n",
       " ['alt.atheism',\n",
       "  'comp.graphics',\n",
       "  'comp.os.ms-windows.misc',\n",
       "  'comp.sys.ibm.pc.hardware',\n",
       "  'comp.sys.mac.hardware',\n",
       "  'comp.windows.x',\n",
       "  'misc.forsale',\n",
       "  'rec.autos',\n",
       "  'rec.motorcycles',\n",
       "  'rec.sport.baseball',\n",
       "  'rec.sport.hockey',\n",
       "  'sci.crypt',\n",
       "  'sci.electronics',\n",
       "  'sci.med',\n",
       "  'sci.space',\n",
       "  'soc.religion.christian',\n",
       "  'talk.politics.guns',\n",
       "  'talk.politics.mideast',\n",
       "  'talk.politics.misc',\n",
       "  'talk.religion.misc'])"
      ]
     },
     "execution_count": 224,
     "metadata": {},
     "output_type": "execute_result"
    }
   ],
   "source": [
    "len(news.data), len(news.target_names), news.target_names"
   ]
  },
  {
   "cell_type": "code",
   "execution_count": 225,
   "metadata": {},
   "outputs": [
    {
     "name": "stdout",
     "output_type": "stream",
     "text": [
      "From: guykuo@carson.u.washington.edu (Guy Kuo)\n",
      "Subject: SI Clock Poll - Final Call\n",
      "Summary: Final call for SI clock reports\n",
      "Keywords: SI,acceleration,clock,upgrade\n",
      "Article-I.D.: shelley.1qvfo9INNc3s\n",
      "Organization: University of Washington\n",
      "Lines: 11\n",
      "NNTP-Posting-Host: carson.u.washington.edu\n",
      "\n",
      "A fair number of brave souls who upgraded their SI clock oscillator have\n",
      "shared their experiences for this poll. Please send a brief message detailing\n",
      "your experiences with the procedure. Top speed attained, CPU rated speed,\n",
      "add on cards and adapters, heat sinks, hour of usage per day, floppy disk\n",
      "functionality with 800 and 1.4 m floppies are especially requested.\n",
      "\n",
      "I will be summarizing in the next two days, so please add to the network\n",
      "knowledge base if you have done the clock upgrade and haven't answered this\n",
      "poll. Thanks.\n",
      "\n",
      "Guy Kuo <guykuo@u.washington.edu>\n",
      "\n"
     ]
    }
   ],
   "source": [
    "print(news.data[1])"
   ]
  },
  {
   "cell_type": "code",
   "execution_count": 226,
   "metadata": {},
   "outputs": [
    {
     "data": {
      "text/plain": [
       "(4, 'comp.graphics')"
      ]
     },
     "execution_count": 226,
     "metadata": {},
     "output_type": "execute_result"
    }
   ],
   "source": [
    "news.target[1],news.target_names[1]"
   ]
  },
  {
   "cell_type": "code",
   "execution_count": 227,
   "metadata": {},
   "outputs": [
    {
     "data": {
      "text/plain": [
       "(11314, 20)"
      ]
     },
     "execution_count": 227,
     "metadata": {},
     "output_type": "execute_result"
    }
   ],
   "source": [
    "len(news.data), len(news.target_names)"
   ]
  },
  {
   "cell_type": "markdown",
   "metadata": {},
   "source": [
    "자연어 뉴스를 배열(vector)로 변환 / BOW"
   ]
  },
  {
   "cell_type": "code",
   "execution_count": 228,
   "metadata": {},
   "outputs": [],
   "source": [
    "vect = CountVectorizer().fit(news.data) #"
   ]
  },
  {
   "cell_type": "code",
   "execution_count": 229,
   "metadata": {},
   "outputs": [
    {
     "data": {
      "text/plain": [
       "130107"
      ]
     },
     "execution_count": 229,
     "metadata": {},
     "output_type": "execute_result"
    }
   ],
   "source": [
    "len(vect.vocabulary_)"
   ]
  },
  {
   "cell_type": "code",
   "execution_count": 230,
   "metadata": {},
   "outputs": [],
   "source": [
    "sm = vect.transform(news.data)"
   ]
  },
  {
   "cell_type": "code",
   "execution_count": 231,
   "metadata": {},
   "outputs": [
    {
     "data": {
      "text/plain": [
       "<11314x130107 sparse matrix of type '<class 'numpy.int64'>'\n",
       "\twith 1787565 stored elements in Compressed Sparse Row format>"
      ]
     },
     "execution_count": 231,
     "metadata": {},
     "output_type": "execute_result"
    }
   ],
   "source": [
    "sm"
   ]
  },
  {
   "cell_type": "code",
   "execution_count": 232,
   "metadata": {},
   "outputs": [],
   "source": [
    "from sklearn.linear_model import LogisticRegression"
   ]
  },
  {
   "cell_type": "code",
   "execution_count": 233,
   "metadata": {},
   "outputs": [
    {
     "name": "stderr",
     "output_type": "stream",
     "text": [
      "C:\\Users\\wtime\\Anaconda3\\lib\\site-packages\\sklearn\\linear_model\\logistic.py:433: FutureWarning: Default solver will be changed to 'lbfgs' in 0.22. Specify a solver to silence this warning.\n",
      "  FutureWarning)\n",
      "C:\\Users\\wtime\\Anaconda3\\lib\\site-packages\\sklearn\\linear_model\\logistic.py:460: FutureWarning: Default multi_class will be changed to 'auto' in 0.22. Specify the multi_class option to silence this warning.\n",
      "  \"this warning.\", FutureWarning)\n"
     ]
    }
   ],
   "source": [
    "model = LogisticRegression().fit(sm, news.target)"
   ]
  },
  {
   "cell_type": "code",
   "execution_count": 234,
   "metadata": {},
   "outputs": [
    {
     "data": {
      "text/plain": [
       "0.999734841788934"
      ]
     },
     "execution_count": 234,
     "metadata": {},
     "output_type": "execute_result"
    }
   ],
   "source": [
    "model.score(sm, news.target)"
   ]
  },
  {
   "cell_type": "code",
   "execution_count": 235,
   "metadata": {},
   "outputs": [],
   "source": [
    "test_set = ['Hi, Major League Base Ball, who Is Winner?', \n",
    "            'I want to buy a apple, where shoud I go?']"
   ]
  },
  {
   "cell_type": "code",
   "execution_count": 236,
   "metadata": {},
   "outputs": [
    {
     "data": {
      "text/plain": [
       "array([9, 4])"
      ]
     },
     "execution_count": 236,
     "metadata": {},
     "output_type": "execute_result"
    }
   ],
   "source": [
    "model.predict(vect.transform(test_set))\n"
   ]
  },
  {
   "cell_type": "code",
   "execution_count": 237,
   "metadata": {},
   "outputs": [
    {
     "data": {
      "text/plain": [
       "('rec.sport.baseball', 'comp.sys.mac.hardware')"
      ]
     },
     "execution_count": 237,
     "metadata": {},
     "output_type": "execute_result"
    }
   ],
   "source": [
    "news.target_names[9],news.target_names[4]"
   ]
  },
  {
   "cell_type": "code",
   "execution_count": 238,
   "metadata": {},
   "outputs": [
    {
     "data": {
      "text/plain": [
       "(1, 130107)"
      ]
     },
     "execution_count": 238,
     "metadata": {},
     "output_type": "execute_result"
    }
   ],
   "source": [
    "sm_test = vect.transform(test_set)\n",
    "dm = sm_test[0].toarray()\n",
    "dm.shape"
   ]
  },
  {
   "cell_type": "code",
   "execution_count": 239,
   "metadata": {},
   "outputs": [
    {
     "data": {
      "text/plain": [
       "(8, array([[0, 0, 0, ..., 0, 0, 0]], dtype=int64))"
      ]
     },
     "execution_count": 239,
     "metadata": {},
     "output_type": "execute_result"
    }
   ],
   "source": [
    "np.sum(dm), dm"
   ]
  },
  {
   "cell_type": "code",
   "execution_count": 240,
   "metadata": {},
   "outputs": [
    {
     "data": {
      "text/plain": [
       "array([ 31657,  31951,  63092,  68532,  75022,  79043, 124147, 124501])"
      ]
     },
     "execution_count": 240,
     "metadata": {},
     "output_type": "execute_result"
    }
   ],
   "source": [
    "sm_test[0].indices # Indexes 배열의 크기가 너무 크기 때문에 0이 아닌 값이 있는 위치를 볼 수 밖에 없습니다."
   ]
  },
  {
   "cell_type": "code",
   "execution_count": 241,
   "metadata": {},
   "outputs": [],
   "source": [
    "import konlpy"
   ]
  },
  {
   "cell_type": "code",
   "execution_count": 242,
   "metadata": {},
   "outputs": [
    {
     "name": "stdout",
     "output_type": "stream",
     "text": [
      "['네, 안녕하세요.', '반갑습니다.']\n"
     ]
    }
   ],
   "source": [
    "from konlpy.tag import Kkma\n",
    "from konlpy.utils import pprint\n",
    "kkma = Kkma()\n",
    "pprint(kkma.sentences(u'네, 안녕하세요. 반갑습니다.'))"
   ]
  },
  {
   "cell_type": "code",
   "execution_count": 243,
   "metadata": {},
   "outputs": [
    {
     "name": "stdout",
     "output_type": "stream",
     "text": [
      "['질문', '건의', '건의사항', '사항', '깃헙', '이슈', '트래커']\n"
     ]
    }
   ],
   "source": [
    "pprint(kkma.nouns(u'질문이나 건의사항은 깃헙 이슈 트래커에 남겨주세요.'))"
   ]
  },
  {
   "cell_type": "code",
   "execution_count": 244,
   "metadata": {},
   "outputs": [
    {
     "name": "stdout",
     "output_type": "stream",
     "text": [
      "[('오류', 'NNG'),\n",
      " ('보고', 'NNG'),\n",
      " ('는', 'JX'),\n",
      " ('실행', 'NNG'),\n",
      " ('환경', 'NNG'),\n",
      " (',', 'SP'),\n",
      " ('에러', 'NNG'),\n",
      " ('메세지', 'NNG'),\n",
      " ('와', 'JKM'),\n",
      " ('함께', 'MAG'),\n",
      " ('설명', 'NNG'),\n",
      " ('을', 'JKO'),\n",
      " ('최대한', 'NNG'),\n",
      " ('상세히', 'MAG'),\n",
      " ('!', 'SF'),\n",
      " ('^^', 'EMO')]\n"
     ]
    }
   ],
   "source": [
    "pprint(kkma.pos(u'오류보고는 실행환경, 에러메세지와함께 설명을 최대한상세히!^^'))"
   ]
  },
  {
   "cell_type": "code",
   "execution_count": 245,
   "metadata": {},
   "outputs": [
    {
     "data": {
      "text/plain": [
       "['질문', '이나', '건의', '사항', '은', '깃', '험', '이슈', '트래커', '에', '남겨주세요', '.']"
      ]
     },
     "execution_count": 245,
     "metadata": {},
     "output_type": "execute_result"
    }
   ],
   "source": [
    "#p445\n",
    "from konlpy.tag import Okt\n",
    "okt_tag = Okt()\n",
    "okt_tag.morphs(u'질문이나 건의사항은 깃험 이슈 트래커에 남겨주세요.')"
   ]
  },
  {
   "cell_type": "code",
   "execution_count": 151,
   "metadata": {},
   "outputs": [
    {
     "data": {
      "text/plain": [
       "['오류',\n",
       " '보고',\n",
       " '는',\n",
       " '실행',\n",
       " '환경',\n",
       " ',',\n",
       " '에러',\n",
       " '메세지',\n",
       " '와',\n",
       " '함께',\n",
       " '설명',\n",
       " '을',\n",
       " '최대한',\n",
       " '상세히',\n",
       " '!',\n",
       " '^^']"
      ]
     },
     "execution_count": 151,
     "metadata": {},
     "output_type": "execute_result"
    }
   ],
   "source": [
    "kkma.morphs(u'오류보고는 실행환경, 에러메세지와함께 설명을 최대한상세히!^^')"
   ]
  },
  {
   "cell_type": "code",
   "execution_count": 246,
   "metadata": {},
   "outputs": [],
   "source": [
    "cv = CountVectorizer(tokenizer=okt_tag.morphs) # 문장 -> 벡터로 변환할때 단어 자르는 기능을 konlpy를 사용\n",
    "cv = TfidfVectorizer(tokenizer=okt_tag.morphs) # 문장 -> 벡터로 변환할때 단어 자르는 기능을 konlpy를 사용"
   ]
  },
  {
   "cell_type": "code",
   "execution_count": 247,
   "metadata": {},
   "outputs": [],
   "source": [
    "sentences = ['안녕, 나는 남자야 남자!', '안녕, 나는 여자야 여자!!']"
   ]
  },
  {
   "cell_type": "code",
   "execution_count": 248,
   "metadata": {},
   "outputs": [],
   "source": [
    "cv = cv.fit(sentences) # 토큰(단어)을 다 잘라서 어휘 사전(vocaburary)를 준비합니다."
   ]
  },
  {
   "cell_type": "code",
   "execution_count": 249,
   "metadata": {},
   "outputs": [
    {
     "data": {
      "text/plain": [
       "{'안녕': 6, ',': 2, '나': 3, '는': 5, '남자': 4, '야': 7, '!': 0, '여자': 8, '!!': 1}"
      ]
     },
     "execution_count": 249,
     "metadata": {},
     "output_type": "execute_result"
    }
   ],
   "source": [
    "cv.vocabulary_"
   ]
  },
  {
   "cell_type": "code",
   "execution_count": 250,
   "metadata": {},
   "outputs": [],
   "source": [
    "sparse_matrix = cv.transform(sentences) # 문장을 희소 행렬로 벼환"
   ]
  },
  {
   "cell_type": "code",
   "execution_count": 251,
   "metadata": {},
   "outputs": [
    {
     "data": {
      "text/plain": [
       "array([[0.36439074, 0.        , 0.25926702, 0.25926702, 0.72878149,\n",
       "        0.25926702, 0.25926702, 0.25926702, 0.        ],\n",
       "       [0.        , 0.36439074, 0.25926702, 0.25926702, 0.        ,\n",
       "        0.25926702, 0.25926702, 0.25926702, 0.72878149]])"
      ]
     },
     "execution_count": 251,
     "metadata": {},
     "output_type": "execute_result"
    }
   ],
   "source": [
    "sparse_matrix.toarray()"
   ]
  },
  {
   "cell_type": "markdown",
   "metadata": {},
   "source": [
    "네이버 영화 리뷰 추천/비추천 분류"
   ]
  },
  {
   "cell_type": "code",
   "execution_count": 252,
   "metadata": {},
   "outputs": [],
   "source": [
    "import pandas as pd"
   ]
  },
  {
   "cell_type": "code",
   "execution_count": 253,
   "metadata": {},
   "outputs": [],
   "source": [
    "movie = pd.read_csv('ratings_train.txt',delimiter='\\t')"
   ]
  },
  {
   "cell_type": "code",
   "execution_count": 254,
   "metadata": {},
   "outputs": [
    {
     "data": {
      "text/plain": [
       "(150000, 3)"
      ]
     },
     "execution_count": 254,
     "metadata": {},
     "output_type": "execute_result"
    }
   ],
   "source": [
    "movie.shape"
   ]
  },
  {
   "cell_type": "code",
   "execution_count": 255,
   "metadata": {},
   "outputs": [],
   "source": [
    "movie = movie.drop(columns='id')\n",
    "movie = movie.dropna()"
   ]
  },
  {
   "cell_type": "code",
   "execution_count": 256,
   "metadata": {},
   "outputs": [],
   "source": [
    "m = 1000\n",
    "movie = movie.iloc[:m]"
   ]
  },
  {
   "cell_type": "code",
   "execution_count": 257,
   "metadata": {},
   "outputs": [
    {
     "data": {
      "text/html": [
       "<div>\n",
       "<style scoped>\n",
       "    .dataframe tbody tr th:only-of-type {\n",
       "        vertical-align: middle;\n",
       "    }\n",
       "\n",
       "    .dataframe tbody tr th {\n",
       "        vertical-align: top;\n",
       "    }\n",
       "\n",
       "    .dataframe thead th {\n",
       "        text-align: right;\n",
       "    }\n",
       "</style>\n",
       "<table border=\"1\" class=\"dataframe\">\n",
       "  <thead>\n",
       "    <tr style=\"text-align: right;\">\n",
       "      <th></th>\n",
       "      <th>document</th>\n",
       "      <th>label</th>\n",
       "    </tr>\n",
       "  </thead>\n",
       "  <tbody>\n",
       "    <tr>\n",
       "      <th>0</th>\n",
       "      <td>아 더빙.. 진짜 짜증나네요 목소리</td>\n",
       "      <td>0</td>\n",
       "    </tr>\n",
       "    <tr>\n",
       "      <th>1</th>\n",
       "      <td>흠...포스터보고 초딩영화줄....오버연기조차 가볍지 않구나</td>\n",
       "      <td>1</td>\n",
       "    </tr>\n",
       "  </tbody>\n",
       "</table>\n",
       "</div>"
      ],
      "text/plain": [
       "                            document  label\n",
       "0                아 더빙.. 진짜 짜증나네요 목소리      0\n",
       "1  흠...포스터보고 초딩영화줄....오버연기조차 가볍지 않구나      1"
      ]
     },
     "execution_count": 257,
     "metadata": {},
     "output_type": "execute_result"
    }
   ],
   "source": [
    "movie.head(2)"
   ]
  },
  {
   "cell_type": "code",
   "execution_count": 258,
   "metadata": {},
   "outputs": [
    {
     "data": {
      "text/plain": [
       "document    0\n",
       "label       0\n",
       "dtype: int64"
      ]
     },
     "execution_count": 258,
     "metadata": {},
     "output_type": "execute_result"
    }
   ],
   "source": [
    "movie.isna().sum()"
   ]
  },
  {
   "cell_type": "code",
   "execution_count": 259,
   "metadata": {},
   "outputs": [],
   "source": [
    "X = movie['document']\n",
    "y = movie.label"
   ]
  },
  {
   "cell_type": "code",
   "execution_count": 260,
   "metadata": {},
   "outputs": [],
   "source": [
    "from konlpy.tag import Okt\n",
    "cv = CountVectorizer(tokenizer=Okt().morphs) # 문장 -> 벡터로 변환할때 단어 자르는 기능을 konlpy를 사용"
   ]
  },
  {
   "cell_type": "code",
   "execution_count": 261,
   "metadata": {},
   "outputs": [],
   "source": [
    "cv = cv.fit(X)"
   ]
  },
  {
   "cell_type": "code",
   "execution_count": 262,
   "metadata": {},
   "outputs": [
    {
     "data": {
      "text/plain": [
       "4767"
      ]
     },
     "execution_count": 262,
     "metadata": {},
     "output_type": "execute_result"
    }
   ],
   "source": [
    "len(cv.vocabulary_)"
   ]
  },
  {
   "cell_type": "code",
   "execution_count": 263,
   "metadata": {},
   "outputs": [
    {
     "data": {
      "text/plain": [
       "{'아': 2638,\n",
       " '더빙': 1139,\n",
       " '..': 33,\n",
       " '진짜': 4042,\n",
       " '짜증나네요': 4067,\n",
       " '목소리': 1679,\n",
       " '흠': 4745,\n",
       " '...': 38,\n",
       " '포스터': 4396,\n",
       " '보고': 1939,\n",
       " '초딩': 4165,\n",
       " '영화': 3064,\n",
       " '줄': 3940,\n",
       " '....': 40,\n",
       " '오버': 3112,\n",
       " '연기': 3021,\n",
       " '조차': 3822,\n",
       " '가볍지': 275,\n",
       " '않구나': 2762,\n",
       " '너': 910,\n",
       " '무재': 1719,\n",
       " '밓었': 1808,\n",
       " '다그': 1020,\n",
       " '래서': 1403,\n",
       " '보는것을': 1955,\n",
       " '추천': 4191,\n",
       " '한': 4518,\n",
       " '다': 1017,\n",
       " '교도소': 539,\n",
       " '이야기': 3394,\n",
       " '구먼': 550,\n",
       " '솔직히': 2424,\n",
       " '재미': 3619,\n",
       " '는': 999,\n",
       " '없다': 2934,\n",
       " '평점': 4389,\n",
       " '조정': 3821,\n",
       " '사이': 2230,\n",
       " '몬페': 1683,\n",
       " '그': 582,\n",
       " '의': 3314,\n",
       " '익살스런': 3432,\n",
       " '가': 256,\n",
       " '돋보였던': 1177,\n",
       " '!': 0,\n",
       " '스파이더맨': 2484,\n",
       " '에서': 2972,\n",
       " '늙어': 1002,\n",
       " '보이기만': 1994,\n",
       " '했던': 4612,\n",
       " '커스틴': 4232,\n",
       " '던스트': 1143,\n",
       " '너무나도': 913,\n",
       " '이뻐': 3372,\n",
       " '보였다': 1991,\n",
       " '막': 1481,\n",
       " '걸음': 420,\n",
       " '마': 1454,\n",
       " '뗀': 1356,\n",
       " '3': 96,\n",
       " '세': 2383,\n",
       " '부터': 2101,\n",
       " '초등학교': 4164,\n",
       " '1': 58,\n",
       " '학년': 4513,\n",
       " '생인': 2320,\n",
       " '8': 114,\n",
       " '살용': 2260,\n",
       " '.': 27,\n",
       " 'ㅋㅋㅋ': 228,\n",
       " '별': 1929,\n",
       " '반개': 1841,\n",
       " '도': 1155,\n",
       " '아까': 2641,\n",
       " '움': 3216,\n",
       " '원작': 3241,\n",
       " '긴장감': 680,\n",
       " '을': 3307,\n",
       " '제대로': 3792,\n",
       " '살려내지못': 2248,\n",
       " '했다': 4608,\n",
       " '아깝다': 2648,\n",
       " '욕': 3176,\n",
       " '나온다': 822,\n",
       " '이응경': 3409,\n",
       " '길용우': 685,\n",
       " '연': 3018,\n",
       " '기': 648,\n",
       " '생활': 2322,\n",
       " '이': 3324,\n",
       " '몇': 1649,\n",
       " '년': 929,\n",
       " '인지': 3450,\n",
       " '정말': 3762,\n",
       " '발': 1862,\n",
       " '로': 1417,\n",
       " '해도': 4576,\n",
       " '그것': 585,\n",
       " '보단': 1966,\n",
       " '낫겟다': 879,\n",
       " '납치': 878,\n",
       " '감금': 318,\n",
       " '만': 1485,\n",
       " '반복': 1845,\n",
       " '드라마': 1273,\n",
       " '가족': 296,\n",
       " '못': 1690,\n",
       " '하는': 4468,\n",
       " '사람': 2211,\n",
       " '모': 1650,\n",
       " '엿': 3039,\n",
       " '네': 924,\n",
       " '액션': 2829,\n",
       " '없는데도': 2932,\n",
       " '있는': 3511,\n",
       " '안되는': 2743,\n",
       " '왜케': 3159,\n",
       " '낮은건데': 888,\n",
       " '?': 138,\n",
       " '꽤': 742,\n",
       " '볼': 2030,\n",
       " '데': 1145,\n",
       " '헐리우드': 4639,\n",
       " '식': 2528,\n",
       " '화려함에만': 4686,\n",
       " '너무': 911,\n",
       " '길들여져': 683,\n",
       " '있나': 3507,\n",
       " '걍': 385,\n",
       " '인피니트': 3453,\n",
       " '짱': 4082,\n",
       " '이다': 3337,\n",
       " '♥': 213,\n",
       " '볼때': 2035,\n",
       " '마다': 1459,\n",
       " '눈물나서': 978,\n",
       " '죽겠다': 3925,\n",
       " '90년': 119,\n",
       " '대의': 1117,\n",
       " '향수': 4625,\n",
       " '자극': 3549,\n",
       " '!!': 1,\n",
       " '허진호': 4633,\n",
       " '감성': 325,\n",
       " '절제': 3743,\n",
       " '멜로': 1634,\n",
       " '달인': 1069,\n",
       " '~': 195,\n",
       " '울면': 3211,\n",
       " '서': 2327,\n",
       " '손': 2418,\n",
       " '들': 1285,\n",
       " '고': 464,\n",
       " '횡단보도': 4706,\n",
       " '건널': 407,\n",
       " '때': 1333,\n",
       " '뛰': 1369,\n",
       " '쳐나': 4159,\n",
       " '올': 3124,\n",
       " '뻔': 2183,\n",
       " '이범수': 3370,\n",
       " '드럽게': 1278,\n",
       " '해': 4567,\n",
       " '담백하고': 1077,\n",
       " '깔끔해서': 717,\n",
       " '좋다': 3852,\n",
       " '신': 2533,\n",
       " '문': 1725,\n",
       " '사': 2197,\n",
       " '로만': 1424,\n",
       " '보다': 1961,\n",
       " '보면': 1974,\n",
       " '자꾸': 3551,\n",
       " '잊어버린다': 3542,\n",
       " '이었다는': 3398,\n",
       " '것': 429,\n",
       " '취향': 4205,\n",
       " '은': 3302,\n",
       " '존중': 3832,\n",
       " '다지': 1045,\n",
       " '내생': 903,\n",
       " '에': 2959,\n",
       " '극장': 630,\n",
       " '본': 2017,\n",
       " '중': 3947,\n",
       " '가장': 289,\n",
       " '노잼': 942,\n",
       " '노': 931,\n",
       " '감동': 322,\n",
       " '임': 3491,\n",
       " '스토리': 2482,\n",
       " '어거지': 2850,\n",
       " 'ㄱ': 215,\n",
       " '냥': 909,\n",
       " '매번': 1584,\n",
       " '긴장': 679,\n",
       " '되고': 1215,\n",
       " '재밋음': 3656,\n",
       " 'ㅠㅠ': 249,\n",
       " '참': 4125,\n",
       " '웃긴게': 3224,\n",
       " '바스코': 1824,\n",
       " '이기': 3331,\n",
       " '면': 1637,\n",
       " '락스': 1396,\n",
       " '코': 4240,\n",
       " '라고': 1384,\n",
       " '까고': 707,\n",
       " '바비': 1823,\n",
       " '아이돌': 2714,\n",
       " '이라고': 3344,\n",
       " '깐다': 715,\n",
       " '그냥': 588,\n",
       " '까고싶어서': 708,\n",
       " '안달': 2738,\n",
       " '난': 843,\n",
       " '처럼': 4142,\n",
       " '보인다': 1999,\n",
       " '굿바이': 568,\n",
       " '레닌': 1409,\n",
       " '표절': 4405,\n",
       " '인': 3436,\n",
       " '이해': 3425,\n",
       " '하는데': 4475,\n",
       " '왜': 3157,\n",
       " '뒤': 1267,\n",
       " '갈수록': 314,\n",
       " '없어지냐': 2944,\n",
       " '이건': 3325,\n",
       " '깨알': 723,\n",
       " '캐스팅': 4229,\n",
       " '과': 504,\n",
       " '질퍽': 4051,\n",
       " '하': 4446,\n",
       " '지': 3979,\n",
       " '않은': 2777,\n",
       " '산뜻한': 2241,\n",
       " '내': 896,\n",
       " '용구성': 3181,\n",
       " '잘': 3588,\n",
       " '버무러진': 1901,\n",
       " '일드': 3462,\n",
       " '약탈': 2842,\n",
       " '자': 3548,\n",
       " '를': 1441,\n",
       " '위': 3254,\n",
       " '변명': 1924,\n",
       " ',': 17,\n",
       " '이라': 3343,\n",
       " '저': 3692,\n",
       " '놈': 954,\n",
       " '착한': 4121,\n",
       " '절대': 3737,\n",
       " '아닌': 2671,\n",
       " '걸': 412,\n",
       " '요': 3169,\n",
       " '나름': 792,\n",
       " '심오한': 2576,\n",
       " '뜻': 1380,\n",
       " '듯': 1308,\n",
       " '학생': 4515,\n",
       " '선생': 2347,\n",
       " '놀아나는': 952,\n",
       " '아님': 2681,\n",
       " '보면서': 1975,\n",
       " '웃지': 3234,\n",
       " '않는': 2763,\n",
       " '건': 404,\n",
       " '불가능하다': 2113,\n",
       " '재미없다': 3623,\n",
       " '지루하고': 3998,\n",
       " '같은': 359,\n",
       " '음식': 3309,\n",
       " '인데': 3444,\n",
       " '바베트': 1821,\n",
       " '만찬': 1525,\n",
       " '하고': 4451,\n",
       " '넘': 917,\n",
       " '차이남': 4117,\n",
       " '있고': 3504,\n",
       " '보는': 1953,\n",
       " '있는데': 3512,\n",
       " ';': 130,\n",
       " '게': 430,\n",
       " '별로': 1931,\n",
       " '안': 2732,\n",
       " '나오고': 809,\n",
       " '핀란드': 4436,\n",
       " '풍경': 4414,\n",
       " '이라도': 3348,\n",
       " '구': 544,\n",
       " '경': 452,\n",
       " '할랫': 4545,\n",
       " '는데': 1001,\n",
       " '나옴': 824,\n",
       " 'ㅡㅡ': 252,\n",
       " '평범한': 4383,\n",
       " '수작': 2443,\n",
       " '는걸': 1000,\n",
       " '말씀드립니다': 1550,\n",
       " '주제': 3922,\n",
       " '좋은데': 3884,\n",
       " '중반': 3954,\n",
       " '지루하다': 3999,\n",
       " '짤랐을꺼': 4077,\n",
       " '야': 2833,\n",
       " '그래서': 594,\n",
       " '납득': 877,\n",
       " '할': 4542,\n",
       " '수': 2432,\n",
       " '없었던거야': 2947,\n",
       " '그럴꺼야': 609,\n",
       " '꼭': 735,\n",
       " '그랬던걸': 599,\n",
       " '꺼야': 726,\n",
       " 'kl': 167,\n",
       " '2': 83,\n",
       " 'g': 162,\n",
       " '고추': 484,\n",
       " '털어': 4299,\n",
       " '버려야': 1892,\n",
       " '할텐데': 4558,\n",
       " '카밀라': 4223,\n",
       " '벨': 1923,\n",
       " '발연기': 1865,\n",
       " '재밋는뎅': 3652,\n",
       " '센스': 2396,\n",
       " '연출': 3029,\n",
       " '력': 1416,\n",
       " '탁월한': 4278,\n",
       " '9': 117,\n",
       " '점': 3746,\n",
       " '엄포스': 2915,\n",
       " '위력': 3257,\n",
       " '다시': 1040,\n",
       " '한번': 4532,\n",
       " '깨닫게': 721,\n",
       " '해준': 4593,\n",
       " '적': 3705,\n",
       " '남': 854,\n",
       " '꽃': 740,\n",
       " '검사': 423,\n",
       " '님': 1015,\n",
       " '좋았어요': 3875,\n",
       " '완전': 3143,\n",
       " '명품': 1647,\n",
       " '졸': 3833,\n",
       " '쓰레기': 2627,\n",
       " '진부하고말': 4035,\n",
       " '도안': 1162,\n",
       " '됌': 1205,\n",
       " 'ㅋㅋ': 227,\n",
       " '시간': 2502,\n",
       " '아까워': 2643,\n",
       " '재밌는데': 3664,\n",
       " '이리': 3361,\n",
       " '낮은고': 889,\n",
       " '1%': 59,\n",
       " '라도': 1387,\n",
       " '기대했던': 655,\n",
       " '죄인': 3892,\n",
       " '입니다': 3492,\n",
       " '아직도': 2724,\n",
       " '인생': 3447,\n",
       " '최고': 4173,\n",
       " '패션': 4361,\n",
       " '대한': 1128,\n",
       " '열정': 3034,\n",
       " '안나': 2735,\n",
       " '윈': 3262,\n",
       " '투어': 4315,\n",
       " '키이라': 4266,\n",
       " '나이틀리': 837,\n",
       " '하고자': 4455,\n",
       " '했던건': 4613,\n",
       " '대체': 1122,\n",
       " '정신장애': 3771,\n",
       " '일까': 3460,\n",
       " '틱장애': 4337,\n",
       " '허허': 4636,\n",
       " '정신': 3769,\n",
       " '나간': 780,\n",
       " '유령': 3267,\n",
       " '재미있겠네요': 3638,\n",
       " '있어': 3520,\n",
       " '보이는데': 1995,\n",
       " '관객': 511,\n",
       " '114': 69,\n",
       " '명': 1640,\n",
       " '이네': 3335,\n",
       " '이렇게': 3358,\n",
       " '평가': 4380,\n",
       " '받는지': 1851,\n",
       " '모르겠다': 1662,\n",
       " '단순하면서': 1058,\n",
       " '은은한': 3304,\n",
       " '매력': 1582,\n",
       " \"'\": 10,\n",
       " '알바생': 2799,\n",
       " '인가': 3437,\n",
       " '내용': 904,\n",
       " '없고': 2922,\n",
       " '무서운거도': 1704,\n",
       " '웃긴거도': 3223,\n",
       " '하나': 4461,\n",
       " '없음': 2951,\n",
       " '싱거운': 2584,\n",
       " 'ㅇ': 221,\n",
       " '낚임': 842,\n",
       " '오게': 3099,\n",
       " '두어라': 1261,\n",
       " '서리': 2332,\n",
       " '굶주렸다': 565,\n",
       " '맘': 1554,\n",
       " '들어요': 1299,\n",
       " '또': 1358,\n",
       " '보고싶은데': 1945,\n",
       " '방법': 1878,\n",
       " '없네': 2927,\n",
       " '>..': 136,\n",
       " 'ㅜㅡ': 245,\n",
       " '윤제문': 3292,\n",
       " '이라는': 3346,\n",
       " '멋진': 1623,\n",
       " '배우': 1886,\n",
       " '발견': 1863,\n",
       " '하게': 4447,\n",
       " '됐어요': 1210,\n",
       " '소소한': 2407,\n",
       " '일': 3456,\n",
       " '탈': 4283,\n",
       " '잔잔한': 3585,\n",
       " '미소': 1776,\n",
       " '머금': 1594,\n",
       " '합니다': 4563,\n",
       " '음악': 3310,\n",
       " '조금': 3810,\n",
       " '아쉽네요': 2704,\n",
       " '주고': 3896,\n",
       " '싶은데': 2596,\n",
       " '올리고': 3126,\n",
       " '싶어': 2590,\n",
       " '10': 62,\n",
       " '줄게요': 3942,\n",
       " '^^': 145,\n",
       " '속지': 2415,\n",
       " '마시길': 1469,\n",
       " '낭비': 884,\n",
       " '돈': 1175,\n",
       " '리얼리티': 1447,\n",
       " '뛰어나긴': 1371,\n",
       " '한데': 4528,\n",
       " '큰': 4259,\n",
       " '공감': 492,\n",
       " '간다': 307,\n",
       " '이민기': 3367,\n",
       " '캐릭터': 4228,\n",
       " '정신의학': 3770,\n",
       " '상': 2277,\n",
       " '분노조절': 2105,\n",
       " '장애': 3612,\n",
       " '초기': 4162,\n",
       " '증상': 3977,\n",
       " '일거다': 3457,\n",
       " '툭하면': 4319,\n",
       " '패': 4358,\n",
       " '물건': 1737,\n",
       " '파손': 4345,\n",
       " '오': 3098,\n",
       " '바': 1809,\n",
       " '였음': 3051,\n",
       " '극': 627,\n",
       " '초반': 4166,\n",
       " '엔': 2985,\n",
       " '신선했는데': 2548,\n",
       " '가면': 271,\n",
       " '상태': 2293,\n",
       " '불가': 2112,\n",
       " '마이너스': 1472,\n",
       " '없냐': 2926,\n",
       " 'ㅋ': 226,\n",
       " '뮤비': 1754,\n",
       " '수준': 2444,\n",
       " '딱': 1327,\n",
       " '알': 2781,\n",
       " '하더군': 4483,\n",
       " 'ㅉㅉ': 225,\n",
       " '북한': 2103,\n",
       " '이런거': 3357,\n",
       " '만들라고': 1499,\n",
       " '대주던': 1120,\n",
       " '우리': 3191,\n",
       " '사랑': 2212,\n",
       " '....^^;': 48,\n",
       " '리스': 1445,\n",
       " '타르': 4274,\n",
       " '가르엔': 268,\n",
       " '나도': 788,\n",
       " '용의': 3185,\n",
       " '주인': 3919,\n",
       " '싶다': 2588,\n",
       " '누': 969,\n",
       " '이랑': 3352,\n",
       " '근친상간': 638,\n",
       " '이나': 3332,\n",
       " '다닐지라도': 1026,\n",
       " '소설': 2406,\n",
       " '속': 2413,\n",
       " '에선': 2977,\n",
       " '제일': 3799,\n",
       " '메': 1627,\n",
       " '라': 1383,\n",
       " '니스': 1014,\n",
       " '터': 4295,\n",
       " '였는데': 3041,\n",
       " '드래곤': 1274,\n",
       " '(': 12,\n",
       " '용': 3179,\n",
       " ')': 13,\n",
       " '멋지네': 1620,\n",
       " '웃음': 3233,\n",
       " '감독': 321,\n",
       " '토르': 4304,\n",
       " '-': 22,\n",
       " '다크': 1047,\n",
       " '월드': 3249,\n",
       " '말': 1543,\n",
       " '잡수셨을지라도': 3602,\n",
       " '기본': 661,\n",
       " '선방': 2345,\n",
       " '했음': 4617,\n",
       " '영혼': 3063,\n",
       " '어루만져': 2864,\n",
       " '수도': 2436,\n",
       " '있군요': 3505,\n",
       " '거친': 402,\n",
       " '상사': 2285,\n",
       " '잠시': 3597,\n",
       " '잊고': 3541,\n",
       " '동화': 1200,\n",
       " '행복했네요': 4624,\n",
       " '세르게이': 2389,\n",
       " '작은': 3571,\n",
       " '매운': 1586,\n",
       " '맛': 1557,\n",
       " '보여주마': 1986,\n",
       " '포퐁': 4398,\n",
       " '저그': 3694,\n",
       " '콩': 4248,\n",
       " '진호': 4046,\n",
       " '가슴': 283,\n",
       " '시리': 2507,\n",
       " '있을까': 3534,\n",
       " '자체': 3566,\n",
       " '난또': 847,\n",
       " '꼬마': 733,\n",
       " '애가': 2819,\n",
       " '무슨': 1715,\n",
       " '원한': 3247,\n",
       " '깊길래': 700,\n",
       " '.,.': 32,\n",
       " '했더니': 4610,\n",
       " 'oo': 176,\n",
       " '혼자': 4672,\n",
       " '나대다': 785,\n",
       " '어쩌라고': 2891,\n",
       " '재미있어요': 3644,\n",
       " '전': 3715,\n",
       " '좋아요': 3858,\n",
       " '충격': 4196,\n",
       " '적이엇다': 3711,\n",
       " '기분': 662,\n",
       " '완전히': 3144,\n",
       " '푹': 4409,\n",
       " '꺼지게': 727,\n",
       " '느낌': 993,\n",
       " '활': 4700,\n",
       " '이라고는': 3345,\n",
       " '없는': 2929,\n",
       " '무거운': 1694,\n",
       " '지독하고': 3996,\n",
       " '차갑고': 4113,\n",
       " '무자비하다': 1718,\n",
       " '그저': 625,\n",
       " '일본인': 3469,\n",
       " '상상력': 2287,\n",
       " '대단한거': 1101,\n",
       " '같다는': 353,\n",
       " '생각': 2309,\n",
       " '든다': 1282,\n",
       " '심심한': 2574,\n",
       " '백봉기': 1889,\n",
       " '언제': 2905,\n",
       " '나오나요': 810,\n",
       " '보는내내': 1957,\n",
       " '그대로': 590,\n",
       " '들어맞는': 1295,\n",
       " '예측': 3094,\n",
       " '카리스마': 4220,\n",
       " '악역': 2731,\n",
       " '불알': 2121,\n",
       " '나와서': 827,\n",
       " '당황': 1091,\n",
       " '아무튼': 2696,\n",
       " '중간': 3948,\n",
       " '끝나는': 763,\n",
       " '평범함': 4384,\n",
       " '녹아든': 946,\n",
       " '일상': 3470,\n",
       " '밋밋한게': 1807,\n",
       " '보던거라': 1968,\n",
       " '계속': 461,\n",
       " '보고있는데': 1948,\n",
       " '전개도': 3717,\n",
       " '느리고': 995,\n",
       " '주인공': 3920,\n",
       " '은희': 3306,\n",
       " '한두': 4529,\n",
       " '컷': 4236,\n",
       " '나오면서': 819,\n",
       " '소': 2399,\n",
       " '극적': 632,\n",
       " '모습': 1672,\n",
       " '짜증': 4064,\n",
       " 'ㅜㅜ': 242,\n",
       " '맨날': 1591,\n",
       " '끝나나': 761,\n",
       " '대만': 1106,\n",
       " '있어요': 3524,\n",
       " '전개': 3716,\n",
       " '좀': 3838,\n",
       " '빨리': 2174,\n",
       " '싶게하는': 2586,\n",
       " '가슴속': 284,\n",
       " '온': 3120,\n",
       " '감정': 329,\n",
       " '헤집어놓는': 4646,\n",
       " '예요': 3091,\n",
       " '많은': 1537,\n",
       " '다큐': 1046,\n",
       " '우리나라': 3192,\n",
       " '슬픈': 2492,\n",
       " '현대': 4651,\n",
       " '사의': 2229,\n",
       " '단면': 1056,\n",
       " '대해': 1130,\n",
       " '깊이': 704,\n",
       " '사죄': 2232,\n",
       " '바로': 1819,\n",
       " '잡기': 3600,\n",
       " '위해': 3261,\n",
       " '노력': 937,\n",
       " '했으면': 4616,\n",
       " '말로': 1547,\n",
       " '듣던': 1284,\n",
       " '보도': 1969,\n",
       " '연맹': 3024,\n",
       " '민간인': 1791,\n",
       " '학살': 4514,\n",
       " '이정': 3414,\n",
       " '이야': 3393,\n",
       " '명백한': 1644,\n",
       " '살인': 2262,\n",
       " '살인자': 2264,\n",
       " '어디': 2855,\n",
       " '있나요': 3508,\n",
       " '예전': 3093,\n",
       " '작품': 3575,\n",
       " '에피소드': 2982,\n",
       " '재탕': 3684,\n",
       " '삼': 2270,\n",
       " '탕': 4289,\n",
       " '사골': 2200,\n",
       " '우려': 3188,\n",
       " '먹듯': 1604,\n",
       " '산': 2240,\n",
       " '으로': 3295,\n",
       " '가고': 258,\n",
       " '시청률': 2518,\n",
       " '아예': 2709,\n",
       " '이제': 3415,\n",
       " '70회': 113,\n",
       " '중반인데': 3955,\n",
       " '120': 70,\n",
       " '부작': 2092,\n",
       " '이라니': 3347,\n",
       " '김남길': 687,\n",
       " '백': 1888,\n",
       " '짜리': 4060,\n",
       " '연기력': 3022,\n",
       " '몰입도': 1687,\n",
       " '에도': 2964,\n",
       " '불구': 2115,\n",
       " '손예진': 2421,\n",
       " 'ㅈㅈ': 224,\n",
       " '재밌네': 3661,\n",
       " '비슷한': 2143,\n",
       " '보신': 1979,\n",
       " '분': 2104,\n",
       " '한테': 4540,\n",
       " '재미있을': 3648,\n",
       " '노래실력': 936,\n",
       " '뽑는게': 2190,\n",
       " '맞냐': 1569,\n",
       " '박시환': 1833,\n",
       " 'mama': 169,\n",
       " '나가면': 778,\n",
       " '망신': 1560,\n",
       " '일본': 3468,\n",
       " '이런': 3356,\n",
       " '건가': 405,\n",
       " '??': 140,\n",
       " '유치하다': 3277,\n",
       " '이틀': 3422,\n",
       " '만에': 1517,\n",
       " '봤어요': 2067,\n",
       " '재밌어요': 3674,\n",
       " '근데': 635,\n",
       " '차': 4112,\n",
       " '넣어': 923,\n",
       " '조작': 3818,\n",
       " '하려고': 4488,\n",
       " '하면': 4494,\n",
       " '안이': 2751,\n",
       " '열려있다던지': 3031,\n",
       " '집': 4054,\n",
       " '활짝': 4701,\n",
       " '열려서': 3030,\n",
       " '아무나': 2694,\n",
       " '들어간다던가': 1292,\n",
       " '문자': 1728,\n",
       " '하려고하면': 4489,\n",
       " '비번': 2141,\n",
       " '걸려있고': 414,\n",
       " '그런': 606,\n",
       " '억지스러웠는데': 2900,\n",
       " '그래도': 593,\n",
       " '졸작': 3837,\n",
       " '재밋네': 3651,\n",
       " '달팽이': 1070,\n",
       " '빨': 2172,\n",
       " '라서': 1391,\n",
       " '더': 1134,\n",
       " '재밌었어요': 3676,\n",
       " '어설픈': 2878,\n",
       " '어이없는': 2886,\n",
       " '결말': 445,\n",
       " '부패한': 2102,\n",
       " '로마노프': 1423,\n",
       " '왕조': 3155,\n",
       " '기리': 660,\n",
       " '뭣같': 1752,\n",
       " '온몸': 3122,\n",
       " '항거': 4566,\n",
       " '러시아': 1406,\n",
       " '민중': 1796,\n",
       " '폭도': 4399,\n",
       " '냐': 908,\n",
       " '무난': 1697,\n",
       " '편이였구': 4376,\n",
       " '보았습니다': 1983,\n",
       " '매우': 1585,\n",
       " '실망': 2559,\n",
       " '.....': 41,\n",
       " '한국영': 4522,\n",
       " '화': 4677,\n",
       " '흥행': 4753,\n",
       " '코드': 4243,\n",
       " ':': 125,\n",
       " '갈등': 313,\n",
       " '계': 458,\n",
       " '화해': 4696,\n",
       " '남발': 866,\n",
       " '뻔하지': 2184,\n",
       " '뭐': 1745,\n",
       " '아햏햏': 2729,\n",
       " '시작': 2514,\n",
       " '3분': 98,\n",
       " '나왔다': 830,\n",
       " '리플릿': 1449,\n",
       " '사진': 2233,\n",
       " '보며': 1973,\n",
       " '불안하더니만': 2120,\n",
       " '단연': 1061,\n",
       " '할수있지': 4555,\n",
       " '럼': 1408,\n",
       " '먹고': 1602,\n",
       " '만들었나보다': 1509,\n",
       " '에게': 2960,\n",
       " '뭘': 1751,\n",
       " '하는지도': 4477,\n",
       " '모르겠고': 1659,\n",
       " '엉망': 2958,\n",
       " '진창': 4044,\n",
       " '개': 367,\n",
       " '우뢰매': 3190,\n",
       " ';;;': 132,\n",
       " '진정': 4040,\n",
       " '위대한': 3255,\n",
       " '별루': 1932,\n",
       " '였다': 3043,\n",
       " '내일': 905,\n",
       " '기대': 651,\n",
       " '되는': 1218,\n",
       " '`': 147,\n",
       " '조미': 3815,\n",
       " '막문위': 1482,\n",
       " '좋아한건': 3863,\n",
       " '가요': 287,\n",
       " '골깜': 488,\n",
       " '눈': 976,\n",
       " '부라릴': 2081,\n",
       " '쓰러짐': 2626,\n",
       " '성룡': 2371,\n",
       " '최악': 4179,\n",
       " '골': 487,\n",
       " '때리네': 1337,\n",
       " 'ㅋㅋㅋㅋ': 229,\n",
       " '걸스데이': 418,\n",
       " '이혜리': 3429,\n",
       " '되라': 1226,\n",
       " '서기': 2329,\n",
       " '이뻐서': 3373,\n",
       " 'ㅋㅋㅋㅋㅋ': 230,\n",
       " '인공': 3443,\n",
       " '주귀': 3899,\n",
       " '여': 2988,\n",
       " 'ㅋㅋㅋㅋㅋㅋ': 231,\n",
       " '인상': 3446,\n",
       " '어내스트': 2853,\n",
       " '와': 3131,\n",
       " '셀레스틴': 2397,\n",
       " '강추': 341,\n",
       " '에요': 2979,\n",
       " '재밌습니다': 3672,\n",
       " '재미있는': 3640,\n",
       " '클라라': 4260,\n",
       " '볼라': 2036,\n",
       " '화신': 4690,\n",
       " '본거': 2019,\n",
       " '아닌데': 2674,\n",
       " '슬펐던': 2490,\n",
       " '설정': 2359,\n",
       " '재밌고': 3659,\n",
       " '새로운': 2299,\n",
       " '메인': 1633,\n",
       " '차차': 4119,\n",
       " '나오는게': 814,\n",
       " '재밌음': 3678,\n",
       " '신카이': 2552,\n",
       " '마코토': 1480,\n",
       " '작화': 3576,\n",
       " '미': 1760,\n",
       " '유': 3263,\n",
       " '카나': 4219,\n",
       " '해줘서': 4595,\n",
       " '대박': 1107,\n",
       " '재미없음': 3635,\n",
       " '진심': 4039,\n",
       " '이훨': 3431,\n",
       " '나': 775,\n",
       " '두': 1251,\n",
       " '잔잔한게': 3586,\n",
       " '인거': 3440,\n",
       " '같습니다': 354,\n",
       " '고은님': 481,\n",
       " '쓰면': 2628,\n",
       " '봅니다': 2041,\n",
       " '무섭지도': 1713,\n",
       " '않았고': 2768,\n",
       " '억지스럽고': 2901,\n",
       " '노골': 932,\n",
       " '술': 2456,\n",
       " '광고': 517,\n",
       " '은은하고': 3303,\n",
       " '있게': 3503,\n",
       " '어땠을까': 2859,\n",
       " '킬링타임': 4268,\n",
       " '크리스마스': 4257,\n",
       " '떠오르는': 1348,\n",
       " '재미있게': 3637,\n",
       " '봤습니다': 2066,\n",
       " '행복': 4622,\n",
       " \"'-'\": 11,\n",
       " 'ㅎㅎㅎ': 239,\n",
       " '빠져서': 2168,\n",
       " '있었던': 3528,\n",
       " '쫌': 4094,\n",
       " '산만하긴': 2243,\n",
       " '하던데': 4485,\n",
       " ';;': 131,\n",
       " '태어나서': 4293,\n",
       " '처음': 4145,\n",
       " '나왔습니다': 831,\n",
       " ',,,,': 20,\n",
       " '불륜': 2117,\n",
       " '로맨스': 1425,\n",
       " ',,': 18,\n",
       " '왕': 3154,\n",
       " '아주': 2721,\n",
       " '짬뽕': 4081,\n",
       " '믹스': 1789,\n",
       " '했구나': 4602,\n",
       " '음향': 3311,\n",
       " '무섭게': 1709,\n",
       " '하네': 4466,\n",
       " '하아': 4498,\n",
       " '별루더': 1933,\n",
       " '기준': 675,\n",
       " '패널': 4359,\n",
       " '가구': 259,\n",
       " '머': 1593,\n",
       " '하는거지': 4470,\n",
       " '명작': 1645,\n",
       " '망치': 1563,\n",
       " '서운하다': 2337,\n",
       " '이상해': 3383,\n",
       " '몬스터': 1681,\n",
       " '주식회사': 3915,\n",
       " 'd': 157,\n",
       " '재밌게': 3658,\n",
       " '봤다': 2061,\n",
       " '너무나': 912,\n",
       " '느리다': 996,\n",
       " '........': 44,\n",
       " '소재': 2410,\n",
       " '흥미': 4749,\n",
       " '끌': 749,\n",
       " '지만': 4010,\n",
       " '투': 4314,\n",
       " '박해서': 1838,\n",
       " '몰입': 1686,\n",
       " '안되는군': 2745,\n",
       " '보지마라': 2006,\n",
       " '중국인': 3952,\n",
       " '특유': 4326,\n",
       " '과장': 508,\n",
       " '허풍': 4635,\n",
       " '보이려고': 1996,\n",
       " '안간힘': 2733,\n",
       " '쓴': 2630,\n",
       " '가상하나': 281,\n",
       " '고증': 482,\n",
       " '현': 4649,\n",
       " '실감': 2557,\n",
       " '떨어지는': 1350,\n",
       " '거북': 394,\n",
       " '스럽다': 2470,\n",
       " '도대체': 1157,\n",
       " '까지': 711,\n",
       " '스스로': 2474,\n",
       " '과대': 506,\n",
       " '포장': 4397,\n",
       " '불법체류자': 2118,\n",
       " '때려': 1334,\n",
       " '잡는': 3601,\n",
       " '좋았을텐데': 3880,\n",
       " '우상화': 3196,\n",
       " '만든다고': 1494,\n",
       " '미국': 1762,\n",
       " '따뜻한': 1316,\n",
       " '뭥미': 1753,\n",
       " '2년': 94,\n",
       " '삶속': 2269,\n",
       " '생애': 2319,\n",
       " '전부': 3722,\n",
       " '드러난': 1275,\n",
       " '하다': 4480,\n",
       " '가자': 288,\n",
       " '본지': 2029,\n",
       " '지난': 3992,\n",
       " '후': 4710,\n",
       " '남기지만': 860,\n",
       " '재미있었음': 3647,\n",
       " '아니': 2655,\n",
       " '대': 1095,\n",
       " '...;;;': 50,\n",
       " '10년': 66,\n",
       " '지나': 3986,\n",
       " '보게': 1936,\n",
       " '된': 1236,\n",
       " '봐도': 2044,\n",
       " '순수한': 2450,\n",
       " '숀펜': 2431,\n",
       " '또한': 1361,\n",
       " '甲': 255,\n",
       " '올레': 3125,\n",
       " '공짜': 498,\n",
       " '있길래': 3506,\n",
       " '봤음': 2071,\n",
       " '헐': 4638,\n",
       " '문제': 1729,\n",
       " '아니라': 2661,\n",
       " '연기자': 3023,\n",
       " '전혀': 3732,\n",
       " '배역': 1885,\n",
       " '어울리지': 2882,\n",
       " '않음': 2779,\n",
       " '그리고': 617,\n",
       " '상대': 2281,\n",
       " ...}"
      ]
     },
     "execution_count": 263,
     "metadata": {},
     "output_type": "execute_result"
    }
   ],
   "source": [
    "cv.vocabulary_"
   ]
  },
  {
   "cell_type": "code",
   "execution_count": 264,
   "metadata": {},
   "outputs": [],
   "source": [
    "X_sm = cv.transform(X)"
   ]
  },
  {
   "cell_type": "code",
   "execution_count": 265,
   "metadata": {},
   "outputs": [],
   "source": [
    "from sklearn.model_selection import cross_val_score\n",
    "from sklearn.linear_model import LogisticRegression,RidgeClassifier # classification"
   ]
  },
  {
   "cell_type": "code",
   "execution_count": 266,
   "metadata": {},
   "outputs": [
    {
     "name": "stderr",
     "output_type": "stream",
     "text": [
      "C:\\Users\\wtime\\Anaconda3\\lib\\site-packages\\sklearn\\linear_model\\logistic.py:433: FutureWarning: Default solver will be changed to 'lbfgs' in 0.22. Specify a solver to silence this warning.\n",
      "  FutureWarning)\n"
     ]
    },
    {
     "data": {
      "text/plain": [
       "array([0.70658683, 0.6996997 , 0.66066066])"
      ]
     },
     "execution_count": 266,
     "metadata": {},
     "output_type": "execute_result"
    }
   ],
   "source": [
    "scores = cross_val_score(LogisticRegression(), X_sm,y, cv=3)\n",
    "scores = cross_val_score(RidgeClassifier(), X_sm,y, cv=3)\n",
    "scores"
   ]
  },
  {
   "cell_type": "code",
   "execution_count": 267,
   "metadata": {},
   "outputs": [
    {
     "name": "stderr",
     "output_type": "stream",
     "text": [
      "C:\\Users\\wtime\\Anaconda3\\lib\\site-packages\\sklearn\\linear_model\\logistic.py:433: FutureWarning: Default solver will be changed to 'lbfgs' in 0.22. Specify a solver to silence this warning.\n",
      "  FutureWarning)\n"
     ]
    }
   ],
   "source": [
    "model = LogisticRegression().fit(X_sm,y)\n",
    "model = RidgeClassifier().fit(X_sm,y)"
   ]
  },
  {
   "cell_type": "code",
   "execution_count": 268,
   "metadata": {},
   "outputs": [
    {
     "data": {
      "text/plain": [
       "array([0, 0, 0, 0, 1, 1], dtype=int64)"
      ]
     },
     "execution_count": 268,
     "metadata": {},
     "output_type": "execute_result"
    }
   ],
   "source": [
    "문장 = ['스파이더맨 거미 인가 멋있어요 ㅋㅋㅋㅋㅋ','캐스팅 구려요', \n",
    "      '최악의 영화','성룡','두번 봐라','재밌게 ']\n",
    "model.predict(cv.transform(문장))"
   ]
  },
  {
   "cell_type": "code",
   "execution_count": null,
   "metadata": {},
   "outputs": [],
   "source": []
  },
  {
   "cell_type": "code",
   "execution_count": null,
   "metadata": {},
   "outputs": [],
   "source": []
  }
 ],
 "metadata": {
  "kernelspec": {
   "display_name": "Python 3",
   "language": "python",
   "name": "python3"
  },
  "language_info": {
   "codemirror_mode": {
    "name": "ipython",
    "version": 3
   },
   "file_extension": ".py",
   "mimetype": "text/x-python",
   "name": "python",
   "nbconvert_exporter": "python",
   "pygments_lexer": "ipython3",
   "version": "3.7.3"
  }
 },
 "nbformat": 4,
 "nbformat_minor": 2
}
