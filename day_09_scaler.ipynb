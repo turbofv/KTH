{
 "cells": [
  {
   "cell_type": "markdown",
   "metadata": {},
   "source": [
    "Scaler\n",
    "\n",
    "값의 분포를 조절"
   ]
  },
  {
   "cell_type": "code",
   "execution_count": 90,
   "metadata": {},
   "outputs": [],
   "source": [
    "import numpy as np\n",
    "import matplotlib.pyplot as plt"
   ]
  },
  {
   "cell_type": "code",
   "execution_count": 95,
   "metadata": {},
   "outputs": [
    {
     "data": {
      "text/plain": [
       "array([[5., 9.],\n",
       "       [5., 3.],\n",
       "       [0., 1.],\n",
       "       [5., 2.],\n",
       "       [3., 2.],\n",
       "       [0., 3.],\n",
       "       [1., 4.],\n",
       "       [1., 4.],\n",
       "       [5., 2.],\n",
       "       [2., 8.],\n",
       "       [8., 2.],\n",
       "       [8., 0.],\n",
       "       [2., 3.],\n",
       "       [1., 3.],\n",
       "       [5., 6.],\n",
       "       [9., 8.],\n",
       "       [6., 2.],\n",
       "       [6., 4.],\n",
       "       [2., 9.],\n",
       "       [8., 5.],\n",
       "       [0., 8.],\n",
       "       [5., 4.],\n",
       "       [3., 9.],\n",
       "       [8., 3.],\n",
       "       [3., 6.],\n",
       "       [7., 8.],\n",
       "       [2., 3.],\n",
       "       [1., 7.],\n",
       "       [0., 7.],\n",
       "       [4., 5.],\n",
       "       [7., 5.],\n",
       "       [5., 7.],\n",
       "       [8., 8.],\n",
       "       [9., 8.],\n",
       "       [7., 6.],\n",
       "       [7., 7.],\n",
       "       [3., 1.],\n",
       "       [2., 1.],\n",
       "       [7., 1.],\n",
       "       [3., 9.],\n",
       "       [1., 0.],\n",
       "       [9., 5.],\n",
       "       [4., 3.],\n",
       "       [3., 3.],\n",
       "       [6., 4.],\n",
       "       [4., 4.],\n",
       "       [7., 6.],\n",
       "       [7., 0.],\n",
       "       [9., 9.],\n",
       "       [8., 9.],\n",
       "       [8., 7.],\n",
       "       [8., 4.],\n",
       "       [6., 6.],\n",
       "       [3., 1.],\n",
       "       [9., 6.],\n",
       "       [2., 6.],\n",
       "       [1., 5.],\n",
       "       [1., 4.],\n",
       "       [6., 7.],\n",
       "       [4., 6.],\n",
       "       [1., 4.],\n",
       "       [9., 2.],\n",
       "       [6., 2.],\n",
       "       [6., 6.],\n",
       "       [1., 2.],\n",
       "       [3., 7.],\n",
       "       [8., 8.],\n",
       "       [5., 3.],\n",
       "       [3., 0.],\n",
       "       [2., 7.],\n",
       "       [4., 7.],\n",
       "       [2., 1.],\n",
       "       [0., 6.],\n",
       "       [7., 7.],\n",
       "       [1., 4.],\n",
       "       [6., 6.],\n",
       "       [9., 4.],\n",
       "       [4., 1.],\n",
       "       [3., 7.],\n",
       "       [3., 6.],\n",
       "       [0., 0.],\n",
       "       [7., 0.],\n",
       "       [9., 6.],\n",
       "       [5., 1.],\n",
       "       [3., 7.],\n",
       "       [9., 4.],\n",
       "       [5., 7.],\n",
       "       [1., 8.],\n",
       "       [4., 1.],\n",
       "       [8., 0.],\n",
       "       [0., 7.],\n",
       "       [4., 0.],\n",
       "       [3., 1.],\n",
       "       [2., 5.],\n",
       "       [6., 6.],\n",
       "       [2., 3.],\n",
       "       [7., 4.],\n",
       "       [6., 1.],\n",
       "       [5., 0.],\n",
       "       [8., 4.]], dtype=float32)"
      ]
     },
     "execution_count": 95,
     "metadata": {},
     "output_type": "execute_result"
    }
   ],
   "source": [
    "#x = np.random.randint(10,20,(100,2))\n",
    "x = np.random.randint(0,10,(100,2)).astype(np.float32)\n",
    "x.shape\n",
    "x"
   ]
  },
  {
   "cell_type": "code",
   "execution_count": 92,
   "metadata": {},
   "outputs": [],
   "source": [
    "from sklearn.preprocessing import MinMaxScaler, StandardScaler, RobustScaler,Normalizer\n",
    "s0 = MinMaxScaler().fit(x) # 최소값 최대값 계산해서 기억해 둔다.\n",
    "x0 = s0.transform(x) # 기억해둔 최소값 최대값으로 정규화한다.\n",
    "s1 = StandardScaler().fit(x) # 평균, 표준편차를 계산한다.\n",
    "x1 = s1.transform(x)\n",
    "s2 = RobustScaler().fit(x)\n",
    "x2 = s2.transform(x)\n",
    "s3 = Normalizer().fit(x)\n",
    "x3 = s3.transform(x)"
   ]
  },
  {
   "cell_type": "code",
   "execution_count": 93,
   "metadata": {},
   "outputs": [
    {
     "data": {
      "text/plain": [
       "<matplotlib.collections.PathCollection at 0x1d5d2d7f9e8>"
      ]
     },
     "execution_count": 93,
     "metadata": {},
     "output_type": "execute_result"
    },
    {
     "data": {
      "image/png": "[encoded data removed]",
      "text/plain": [
       "<Figure size 432x288 with 1 Axes>"
      ]
     },
     "metadata": {
      "needs_background": "light"
     },
     "output_type": "display_data"
    }
   ],
   "source": [
    "plt.scatter(x[:,0], x[:,1])\n",
    "plt.scatter(x0[:,0], x0[:,1])\n",
    "plt.scatter(x1[:,0], x1[:,1])\n",
    "plt.scatter(x2[:,0], x2[:,1])\n",
    "plt.scatter(x3[:,0], x3[:,1])\n",
    "#plt.xlim(-10,10)\n",
    "#plt.ylim(-10,10)"
   ]
  },
  {
   "cell_type": "code",
   "execution_count": 55,
   "metadata": {},
   "outputs": [
    {
     "data": {
      "text/plain": [
       "0.0"
      ]
     },
     "execution_count": 55,
     "metadata": {},
     "output_type": "execute_result"
    }
   ],
   "source": [
    "np.sum(s0.inverse_transform(x0) -x) # 역변환"
   ]
  },
  {
   "cell_type": "code",
   "execution_count": 60,
   "metadata": {},
   "outputs": [],
   "source": [
    "from sklearn.datasets import load_breast_cancer\n",
    "from sklearn.preprocessing import StandardScaler\n",
    "from sklearn.decomposition import PCA"
   ]
  },
  {
   "cell_type": "code",
   "execution_count": 61,
   "metadata": {},
   "outputs": [
    {
     "data": {
      "text/plain": [
       "(569, 30)"
      ]
     },
     "execution_count": 61,
     "metadata": {},
     "output_type": "execute_result"
    }
   ],
   "source": [
    "#유방암 데이터를 2차원으로 주성분을 뽑아서 그래프로 표현하니다\n",
    "cancer = load_breast_cancer()\n",
    "cancer.data.shape"
   ]
  },
  {
   "cell_type": "code",
   "execution_count": 68,
   "metadata": {},
   "outputs": [],
   "source": [
    "scaler = StandardScaler().fit(cancer.data) # 30개 열의 평균과 표준편차를 계산해 둡니다"
   ]
  },
  {
   "cell_type": "code",
   "execution_count": 77,
   "metadata": {},
   "outputs": [
    {
     "data": {
      "text/plain": [
       "(4254.0, 12.072680399588076, (569, 30))"
      ]
     },
     "execution_count": 77,
     "metadata": {},
     "output_type": "execute_result"
    }
   ],
   "source": [
    "x = scaler.transform(cancer.data)\n",
    "np.max(cancer.data), np.max(x) , x.shape# 확인"
   ]
  },
  {
   "cell_type": "code",
   "execution_count": 82,
   "metadata": {},
   "outputs": [
    {
     "data": {
      "text/plain": [
       "array([[ 9.19283683,  1.94858307],\n",
       "       [ 2.3878018 , -3.76817174],\n",
       "       [ 5.73389628, -1.0751738 ],\n",
       "       ...,\n",
       "       [ 1.25617928, -1.90229671],\n",
       "       [10.37479406,  1.67201011],\n",
       "       [-5.4752433 , -0.67063679]])"
      ]
     },
     "execution_count": 82,
     "metadata": {},
     "output_type": "execute_result"
    }
   ],
   "source": [
    "pca = PCA(2).fit(x)"
   ]
  },
  {
   "cell_type": "code",
   "execution_count": 86,
   "metadata": {},
   "outputs": [
    {
     "data": {
      "text/plain": [
       "(569, 2)"
      ]
     },
     "execution_count": 86,
     "metadata": {},
     "output_type": "execute_result"
    }
   ],
   "source": [
    "x_pca = pca.transform(x)\n",
    "x_pca.shape #30차원을 2차원으로 차원 축소"
   ]
  },
  {
   "cell_type": "code",
   "execution_count": 87,
   "metadata": {},
   "outputs": [],
   "source": [
    "import mglearn"
   ]
  },
  {
   "cell_type": "code",
   "execution_count": 89,
   "metadata": {},
   "outputs": [
    {
     "data": {
      "image/png": "[encoded data removed]",
      "text/plain": [
       "<Figure size 432x288 with 1 Axes>"
      ]
     },
     "metadata": {
      "needs_background": "light"
     },
     "output_type": "display_data"
    }
   ],
   "source": [
    "I = mglearn.discrete_scatter(x_pca[:,0],x_pca[:,1], cancer.target)"
   ]
  }
 ],
 "metadata": {
  "kernelspec": {
   "display_name": "Python 3",
   "language": "python",
   "name": "python3"
  },
  "language_info": {
   "codemirror_mode": {
    "name": "ipython",
    "version": 3
   },
   "file_extension": ".py",
   "mimetype": "text/x-python",
   "name": "python",
   "nbconvert_exporter": "python",
   "pygments_lexer": "ipython3",
   "version": "3.7.3"
  }
 },
 "nbformat": 4,
 "nbformat_minor": 2
}
